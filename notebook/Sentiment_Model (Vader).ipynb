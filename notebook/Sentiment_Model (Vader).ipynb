{
 "cells": [
  {
   "cell_type": "code",
   "execution_count": 214,
   "metadata": {},
   "outputs": [],
   "source": [
    "# import librabries\n",
    "import pandas as pd\n",
    "import numpy as np\n",
    "import matplotlib.pyplot as plt\n",
    "import seaborn as sns\n",
    "import spacy\n",
    "from nltk.sentiment import SentimentIntensityAnalyzer\n",
    "import ipywidgets as widgets\n",
    "from IPython.display import display\n",
    "from nltk.stem import WordNetLemmatizer\n",
    "from nltk.corpus import stopwords\n",
    "from sklearn.feature_extraction.text import CountVectorizer\n",
    "from sklearn.decomposition import LatentDirichletAllocation\n",
    "\n",
    "import warnings\n",
    "warnings.filterwarnings('ignore')"
   ]
  },
  {
   "cell_type": "code",
   "execution_count": 2,
   "metadata": {},
   "outputs": [],
   "source": [
    "nlp = spacy.load('en_core_web_lg')"
   ]
  },
  {
   "cell_type": "code",
   "execution_count": 107,
   "metadata": {},
   "outputs": [],
   "source": [
    "tweets = pd.read_csv(r\"C:\\Users\\HP\\Documents\\projects\\Sentiment Analysis\\2024-08-11 4_06pm.csv\")\n",
    "data = tweets.copy()"
   ]
  },
  {
   "cell_type": "code",
   "execution_count": 108,
   "metadata": {},
   "outputs": [
    {
     "data": {
      "text/html": [
       "<div>\n",
       "<style scoped>\n",
       "    .dataframe tbody tr th:only-of-type {\n",
       "        vertical-align: middle;\n",
       "    }\n",
       "\n",
       "    .dataframe tbody tr th {\n",
       "        vertical-align: top;\n",
       "    }\n",
       "\n",
       "    .dataframe thead th {\n",
       "        text-align: right;\n",
       "    }\n",
       "</style>\n",
       "<table border=\"1\" class=\"dataframe\">\n",
       "  <thead>\n",
       "    <tr style=\"text-align: right;\">\n",
       "      <th></th>\n",
       "      <th>TWEET_ID</th>\n",
       "      <th>USER_ID</th>\n",
       "      <th>CREATED_AT</th>\n",
       "      <th>TEXT</th>\n",
       "      <th>URL</th>\n",
       "      <th>MENTIONS</th>\n",
       "      <th>LANG</th>\n",
       "      <th>FAVOURITES</th>\n",
       "      <th>RETWEETS</th>\n",
       "      <th>REPLIES</th>\n",
       "      <th>QUOTES</th>\n",
       "      <th>VIEW_COUNT</th>\n",
       "      <th>HASHTAGS</th>\n",
       "    </tr>\n",
       "  </thead>\n",
       "  <tbody>\n",
       "    <tr>\n",
       "      <th>0</th>\n",
       "      <td>1819681803604508810</td>\n",
       "      <td>886083200</td>\n",
       "      <td>2024-08-03 10:28:44.000 Z</td>\n",
       "      <td>Piggyvest is a life saver. I'm introducing thi...</td>\n",
       "      <td>NaN</td>\n",
       "      <td>NaN</td>\n",
       "      <td>en</td>\n",
       "      <td>7</td>\n",
       "      <td>2</td>\n",
       "      <td>5</td>\n",
       "      <td>0</td>\n",
       "      <td>1715.0</td>\n",
       "      <td>NaN</td>\n",
       "    </tr>\n",
       "    <tr>\n",
       "      <th>1</th>\n",
       "      <td>1819477474595545568</td>\n",
       "      <td>1761141472781279232</td>\n",
       "      <td>2024-08-02 20:56:48.000 Z</td>\n",
       "      <td>PiggyVest go think say I don die</td>\n",
       "      <td>https://t.co/rME1dNHNjK</td>\n",
       "      <td>NaN</td>\n",
       "      <td>en</td>\n",
       "      <td>3</td>\n",
       "      <td>0</td>\n",
       "      <td>1</td>\n",
       "      <td>0</td>\n",
       "      <td>47.0</td>\n",
       "      <td>NaN</td>\n",
       "    </tr>\n",
       "    <tr>\n",
       "      <th>2</th>\n",
       "      <td>1819379501471535188</td>\n",
       "      <td>1249897379207286784</td>\n",
       "      <td>2024-08-02 14:27:30.000 Z</td>\n",
       "      <td>Use piggyvest bros</td>\n",
       "      <td>NaN</td>\n",
       "      <td>NaN</td>\n",
       "      <td>lt</td>\n",
       "      <td>1</td>\n",
       "      <td>0</td>\n",
       "      <td>1</td>\n",
       "      <td>1</td>\n",
       "      <td>14263.0</td>\n",
       "      <td>NaN</td>\n",
       "    </tr>\n",
       "    <tr>\n",
       "      <th>3</th>\n",
       "      <td>1819764467078508980</td>\n",
       "      <td>1759572460301672448</td>\n",
       "      <td>2024-08-03 15:57:13.000 Z</td>\n",
       "      <td>Piggyvest needs to stop me from withdrawing</td>\n",
       "      <td>NaN</td>\n",
       "      <td>NaN</td>\n",
       "      <td>en</td>\n",
       "      <td>1</td>\n",
       "      <td>0</td>\n",
       "      <td>1</td>\n",
       "      <td>0</td>\n",
       "      <td>66.0</td>\n",
       "      <td>NaN</td>\n",
       "    </tr>\n",
       "    <tr>\n",
       "      <th>4</th>\n",
       "      <td>1819440896863281310</td>\n",
       "      <td>1081875638573809664</td>\n",
       "      <td>2024-08-02 18:31:28.000 Z</td>\n",
       "      <td>My female friend sent me a screenshot of her s...</td>\n",
       "      <td>NaN</td>\n",
       "      <td>NaN</td>\n",
       "      <td>en</td>\n",
       "      <td>56</td>\n",
       "      <td>22</td>\n",
       "      <td>10</td>\n",
       "      <td>0</td>\n",
       "      <td>2969.0</td>\n",
       "      <td>NaN</td>\n",
       "    </tr>\n",
       "  </tbody>\n",
       "</table>\n",
       "</div>"
      ],
      "text/plain": [
       "              TWEET_ID              USER_ID                 CREATED_AT  \\\n",
       "0  1819681803604508810            886083200  2024-08-03 10:28:44.000 Z   \n",
       "1  1819477474595545568  1761141472781279232  2024-08-02 20:56:48.000 Z   \n",
       "2  1819379501471535188  1249897379207286784  2024-08-02 14:27:30.000 Z   \n",
       "3  1819764467078508980  1759572460301672448  2024-08-03 15:57:13.000 Z   \n",
       "4  1819440896863281310  1081875638573809664  2024-08-02 18:31:28.000 Z   \n",
       "\n",
       "                                                TEXT                      URL  \\\n",
       "0  Piggyvest is a life saver. I'm introducing thi...                      NaN   \n",
       "1                  PiggyVest go think say I don die   https://t.co/rME1dNHNjK   \n",
       "2                                 Use piggyvest bros                      NaN   \n",
       "3        Piggyvest needs to stop me from withdrawing                      NaN   \n",
       "4  My female friend sent me a screenshot of her s...                      NaN   \n",
       "\n",
       "  MENTIONS LANG  FAVOURITES  RETWEETS  REPLIES  QUOTES  VIEW_COUNT HASHTAGS  \n",
       "0      NaN   en           7         2        5       0      1715.0      NaN  \n",
       "1      NaN   en           3         0        1       0        47.0      NaN  \n",
       "2      NaN   lt           1         0        1       1     14263.0      NaN  \n",
       "3      NaN   en           1         0        1       0        66.0      NaN  \n",
       "4      NaN   en          56        22       10       0      2969.0      NaN  "
      ]
     },
     "execution_count": 108,
     "metadata": {},
     "output_type": "execute_result"
    }
   ],
   "source": [
    "data.head()"
   ]
  },
  {
   "cell_type": "code",
   "execution_count": 109,
   "metadata": {},
   "outputs": [
    {
     "data": {
      "text/plain": [
       "(1332, 13)"
      ]
     },
     "execution_count": 109,
     "metadata": {},
     "output_type": "execute_result"
    }
   ],
   "source": [
    "data.shape"
   ]
  },
  {
   "cell_type": "code",
   "execution_count": 110,
   "metadata": {},
   "outputs": [
    {
     "name": "stdout",
     "output_type": "stream",
     "text": [
      "<class 'pandas.core.frame.DataFrame'>\n",
      "RangeIndex: 1332 entries, 0 to 1331\n",
      "Data columns (total 13 columns):\n",
      " #   Column      Non-Null Count  Dtype  \n",
      "---  ------      --------------  -----  \n",
      " 0   TWEET_ID    1332 non-null   int64  \n",
      " 1   USER_ID     1332 non-null   int64  \n",
      " 2   CREATED_AT  1332 non-null   object \n",
      " 3   TEXT        1332 non-null   object \n",
      " 4   URL         578 non-null    object \n",
      " 5   MENTIONS    206 non-null    object \n",
      " 6   LANG        1332 non-null   object \n",
      " 7   FAVOURITES  1332 non-null   int64  \n",
      " 8   RETWEETS    1332 non-null   int64  \n",
      " 9   REPLIES     1332 non-null   int64  \n",
      " 10  QUOTES      1332 non-null   int64  \n",
      " 11  VIEW_COUNT  782 non-null    float64\n",
      " 12  HASHTAGS    157 non-null    object \n",
      "dtypes: float64(1), int64(6), object(6)\n",
      "memory usage: 135.4+ KB\n"
     ]
    }
   ],
   "source": [
    "data.info()"
   ]
  },
  {
   "cell_type": "markdown",
   "metadata": {},
   "source": [
    "### **DATA CLEANING AND PREPROCESSING**\n",
    "The columns with missing values will not be used within the scope of this notebook. In that case, we would not be handling the missing values"
   ]
  },
  {
   "cell_type": "code",
   "execution_count": 111,
   "metadata": {},
   "outputs": [
    {
     "data": {
      "text/plain": [
       "Index(['tweet_id', 'user_id', 'created_at', 'text', 'url', 'mentions', 'lang',\n",
       "       'favourites', 'retweets', 'replies', 'quotes', 'view_count',\n",
       "       'hashtags'],\n",
       "      dtype='object')"
      ]
     },
     "execution_count": 111,
     "metadata": {},
     "output_type": "execute_result"
    }
   ],
   "source": [
    "data.columns = data.columns.str.strip().str.lower()\n",
    "data.columns"
   ]
  },
  {
   "cell_type": "markdown",
   "metadata": {},
   "source": [
    "A `wordcount` column is created, and wordcounts < 2 will be dropped"
   ]
  },
  {
   "cell_type": "code",
   "execution_count": 112,
   "metadata": {},
   "outputs": [],
   "source": [
    "data['wordcount'] = data.text.apply(lambda x: len(x.split(' ')))\n",
    "data = data[data['wordcount'] >= 2].reset_index(drop=True)"
   ]
  },
  {
   "cell_type": "code",
   "execution_count": 113,
   "metadata": {},
   "outputs": [
    {
     "name": "stdout",
     "output_type": "stream",
     "text": [
      "Dataset shape: (1319, 14)\n",
      "Index(['tweet_id', 'user_id', 'created_at', 'text', 'url', 'mentions', 'lang',\n",
      "       'favourites', 'retweets', 'replies', 'quotes', 'view_count', 'hashtags',\n",
      "       'wordcount'],\n",
      "      dtype='object')\n"
     ]
    }
   ],
   "source": [
    "print('Dataset shape:', data.shape)\n",
    "print(data.columns)"
   ]
  },
  {
   "cell_type": "code",
   "execution_count": 171,
   "metadata": {},
   "outputs": [],
   "source": [
    "def preprocess(text):\n",
    "    \"\"\"\n",
    "    Preprocesses the input text by removing special characters, stopwords and changes the characters  to lower case.\n",
    "    \n",
    "    Parameters:\n",
    "    text (str): The raw tweet text.\n",
    "\n",
    "    Returns:\n",
    "    str: The cleaned, preprocessed text without punctuation nor stopwords.\n",
    "    \"\"\"\n",
    "    lemmatizer = WordNetLemmatizer()\n",
    "    preprocessed_text = []\n",
    "    doc = nlp(text) \n",
    "    for i in doc:\n",
    "        if i.is_punct:\n",
    "            continue\n",
    "        i = i.lemma_.lower()\n",
    "        if i in stopwords.words('english'):\n",
    "            continue\n",
    "        preprocessed_text.append(i.lower())\n",
    "        \n",
    "    return ' '.join(preprocessed_text)\n"
   ]
  },
  {
   "cell_type": "code",
   "execution_count": 172,
   "metadata": {},
   "outputs": [],
   "source": [
    "data['processed_text'] = data['text'].apply(preprocess)"
   ]
  },
  {
   "cell_type": "code",
   "execution_count": 173,
   "metadata": {},
   "outputs": [
    {
     "data": {
      "text/html": [
       "<div>\n",
       "<style scoped>\n",
       "    .dataframe tbody tr th:only-of-type {\n",
       "        vertical-align: middle;\n",
       "    }\n",
       "\n",
       "    .dataframe tbody tr th {\n",
       "        vertical-align: top;\n",
       "    }\n",
       "\n",
       "    .dataframe thead th {\n",
       "        text-align: right;\n",
       "    }\n",
       "</style>\n",
       "<table border=\"1\" class=\"dataframe\">\n",
       "  <thead>\n",
       "    <tr style=\"text-align: right;\">\n",
       "      <th></th>\n",
       "      <th>tweet_id</th>\n",
       "      <th>user_id</th>\n",
       "      <th>created_at</th>\n",
       "      <th>text</th>\n",
       "      <th>url</th>\n",
       "      <th>mentions</th>\n",
       "      <th>lang</th>\n",
       "      <th>favourites</th>\n",
       "      <th>retweets</th>\n",
       "      <th>replies</th>\n",
       "      <th>quotes</th>\n",
       "      <th>view_count</th>\n",
       "      <th>hashtags</th>\n",
       "      <th>wordcount</th>\n",
       "      <th>processed_text</th>\n",
       "      <th>sentiment_score</th>\n",
       "      <th>sentiments</th>\n",
       "    </tr>\n",
       "  </thead>\n",
       "  <tbody>\n",
       "    <tr>\n",
       "      <th>0</th>\n",
       "      <td>1819681803604508810</td>\n",
       "      <td>886083200</td>\n",
       "      <td>2024-08-03 10:28:44.000 Z</td>\n",
       "      <td>Piggyvest is a life saver. I'm introducing thi...</td>\n",
       "      <td>NaN</td>\n",
       "      <td>NaN</td>\n",
       "      <td>en</td>\n",
       "      <td>7</td>\n",
       "      <td>2</td>\n",
       "      <td>5</td>\n",
       "      <td>0</td>\n",
       "      <td>1715.0</td>\n",
       "      <td>NaN</td>\n",
       "      <td>11</td>\n",
       "      <td>piggyvest life saver introduce friend</td>\n",
       "      <td>0.4939</td>\n",
       "      <td>positive</td>\n",
       "    </tr>\n",
       "    <tr>\n",
       "      <th>1</th>\n",
       "      <td>1819477474595545568</td>\n",
       "      <td>1761141472781279232</td>\n",
       "      <td>2024-08-02 20:56:48.000 Z</td>\n",
       "      <td>PiggyVest go think say I don die</td>\n",
       "      <td>https://t.co/rME1dNHNjK</td>\n",
       "      <td>NaN</td>\n",
       "      <td>en</td>\n",
       "      <td>3</td>\n",
       "      <td>0</td>\n",
       "      <td>1</td>\n",
       "      <td>0</td>\n",
       "      <td>47.0</td>\n",
       "      <td>NaN</td>\n",
       "      <td>8</td>\n",
       "      <td>piggyvest go think say die</td>\n",
       "      <td>-0.5994</td>\n",
       "      <td>negative</td>\n",
       "    </tr>\n",
       "    <tr>\n",
       "      <th>2</th>\n",
       "      <td>1819379501471535188</td>\n",
       "      <td>1249897379207286784</td>\n",
       "      <td>2024-08-02 14:27:30.000 Z</td>\n",
       "      <td>Use piggyvest bros</td>\n",
       "      <td>NaN</td>\n",
       "      <td>NaN</td>\n",
       "      <td>lt</td>\n",
       "      <td>1</td>\n",
       "      <td>0</td>\n",
       "      <td>1</td>\n",
       "      <td>1</td>\n",
       "      <td>14263.0</td>\n",
       "      <td>NaN</td>\n",
       "      <td>3</td>\n",
       "      <td>use piggyvest bro</td>\n",
       "      <td>0.0000</td>\n",
       "      <td>neutral</td>\n",
       "    </tr>\n",
       "    <tr>\n",
       "      <th>3</th>\n",
       "      <td>1819764467078508980</td>\n",
       "      <td>1759572460301672448</td>\n",
       "      <td>2024-08-03 15:57:13.000 Z</td>\n",
       "      <td>Piggyvest needs to stop me from withdrawing</td>\n",
       "      <td>NaN</td>\n",
       "      <td>NaN</td>\n",
       "      <td>en</td>\n",
       "      <td>1</td>\n",
       "      <td>0</td>\n",
       "      <td>1</td>\n",
       "      <td>0</td>\n",
       "      <td>66.0</td>\n",
       "      <td>NaN</td>\n",
       "      <td>7</td>\n",
       "      <td>piggyvest need stop withdraw</td>\n",
       "      <td>-0.2960</td>\n",
       "      <td>negative</td>\n",
       "    </tr>\n",
       "    <tr>\n",
       "      <th>4</th>\n",
       "      <td>1819440896863281310</td>\n",
       "      <td>1081875638573809664</td>\n",
       "      <td>2024-08-02 18:31:28.000 Z</td>\n",
       "      <td>My female friend sent me a screenshot of her s...</td>\n",
       "      <td>NaN</td>\n",
       "      <td>NaN</td>\n",
       "      <td>en</td>\n",
       "      <td>56</td>\n",
       "      <td>22</td>\n",
       "      <td>10</td>\n",
       "      <td>0</td>\n",
       "      <td>2969.0</td>\n",
       "      <td>NaN</td>\n",
       "      <td>52</td>\n",
       "      <td>female friend send screenshot saving jollof   ...</td>\n",
       "      <td>0.6705</td>\n",
       "      <td>positive</td>\n",
       "    </tr>\n",
       "  </tbody>\n",
       "</table>\n",
       "</div>"
      ],
      "text/plain": [
       "              tweet_id              user_id                 created_at  \\\n",
       "0  1819681803604508810            886083200  2024-08-03 10:28:44.000 Z   \n",
       "1  1819477474595545568  1761141472781279232  2024-08-02 20:56:48.000 Z   \n",
       "2  1819379501471535188  1249897379207286784  2024-08-02 14:27:30.000 Z   \n",
       "3  1819764467078508980  1759572460301672448  2024-08-03 15:57:13.000 Z   \n",
       "4  1819440896863281310  1081875638573809664  2024-08-02 18:31:28.000 Z   \n",
       "\n",
       "                                                text                      url  \\\n",
       "0  Piggyvest is a life saver. I'm introducing thi...                      NaN   \n",
       "1                  PiggyVest go think say I don die   https://t.co/rME1dNHNjK   \n",
       "2                                 Use piggyvest bros                      NaN   \n",
       "3        Piggyvest needs to stop me from withdrawing                      NaN   \n",
       "4  My female friend sent me a screenshot of her s...                      NaN   \n",
       "\n",
       "  mentions lang  favourites  retweets  replies  quotes  view_count hashtags  \\\n",
       "0      NaN   en           7         2        5       0      1715.0      NaN   \n",
       "1      NaN   en           3         0        1       0        47.0      NaN   \n",
       "2      NaN   lt           1         0        1       1     14263.0      NaN   \n",
       "3      NaN   en           1         0        1       0        66.0      NaN   \n",
       "4      NaN   en          56        22       10       0      2969.0      NaN   \n",
       "\n",
       "   wordcount                                     processed_text  \\\n",
       "0         11              piggyvest life saver introduce friend   \n",
       "1          8                         piggyvest go think say die   \n",
       "2          3                                  use piggyvest bro   \n",
       "3          7                       piggyvest need stop withdraw   \n",
       "4         52  female friend send screenshot saving jollof   ...   \n",
       "\n",
       "   sentiment_score sentiments  \n",
       "0           0.4939   positive  \n",
       "1          -0.5994   negative  \n",
       "2           0.0000    neutral  \n",
       "3          -0.2960   negative  \n",
       "4           0.6705   positive  "
      ]
     },
     "execution_count": 173,
     "metadata": {},
     "output_type": "execute_result"
    }
   ],
   "source": [
    "data.head()"
   ]
  },
  {
   "cell_type": "markdown",
   "metadata": {},
   "source": [
    "### **SENTIMENT ANALYSIS**\n",
    "We will use a NLTK's inbuilt SentimentAnalyzer model to classify the sentiment of each tweet. The model is fine-tuned for sentiment analysis and will return an array of probabilities representing `negative`, `neutral`, `positive` and `compound`. The scores returned by VADER `compound` range from -1 to 1, -1 being very negative and one being very positive."
   ]
  },
  {
   "cell_type": "markdown",
   "metadata": {},
   "source": [
    "#### Sentiment on `processed_text` without stopwords"
   ]
  },
  {
   "cell_type": "code",
   "execution_count": 174,
   "metadata": {},
   "outputs": [],
   "source": [
    "sentiment = SentimentIntensityAnalyzer()\n",
    "\n",
    "data['sentiment_score'] = data.processed_text.apply(lambda x: sentiment.polarity_scores(x)['compound'])"
   ]
  },
  {
   "cell_type": "code",
   "execution_count": 175,
   "metadata": {},
   "outputs": [
    {
     "data": {
      "image/png": "[encoded data removed]",
      "text/plain": [
       "<Figure size 640x480 with 1 Axes>"
      ]
     },
     "metadata": {},
     "output_type": "display_data"
    }
   ],
   "source": [
    "sns.histplot(data['sentiment_score'])\n",
    "plt.title('Distribution of sentiment scores')\n",
    "plt.ylabel('Frequency')\n",
    "plt.xlabel('Sentiment scores')\n",
    "plt.show()"
   ]
  },
  {
   "cell_type": "code",
   "execution_count": 176,
   "metadata": {},
   "outputs": [
    {
     "data": {
      "text/plain": [
       "count    1319.000000\n",
       "mean        0.263923\n",
       "std         0.403362\n",
       "min        -0.822500\n",
       "25%         0.000000\n",
       "50%         0.278200\n",
       "75%         0.624900\n",
       "max         0.985500\n",
       "Name: sentiment_score, dtype: float64"
      ]
     },
     "execution_count": 176,
     "metadata": {},
     "output_type": "execute_result"
    }
   ],
   "source": [
    "data['sentiment_score'].describe()"
   ]
  },
  {
   "cell_type": "markdown",
   "metadata": {},
   "source": [
    "(Pawan, 2020) in his work [https://www.kaggle.com/pawanbhandarkar/training-a-sith-lord] compared different split points for the data to identify the best way to split the output of Vader into Negative, Positive and Neutral Categories. This was performed on the US Airline Twitter Dataset but it is expected to be similarly applicable to other Twitter datasets as well.\n",
    "\n",
    "Best Thresholds for splitting Vader tweet sentiments:\n",
    "\n",
    "> sentiment['compound'] < -0.05 => Negative\n",
    ">\n",
    "> sentiment['compound'] > 0.35 => Positive\n",
    ">\n",
    "> -0.05 Neutral < sentiment['compound'] < 0.35 => Neutral"
   ]
  },
  {
   "cell_type": "code",
   "execution_count": 177,
   "metadata": {},
   "outputs": [],
   "source": [
    "def sentiment_analyzer(compound_score):\n",
    "    \"\"\"\n",
    "    Classify sentiment based on a compound score.\n",
    "\n",
    "    Parameters\n",
    "    ----------\n",
    "    compound_score : float\n",
    "        The compound sentiment score to classify.\n",
    "\n",
    "    Returns\n",
    "    -------\n",
    "    str\n",
    "        The sentiment label.\n",
    "    \"\"\"\n",
    "\n",
    "    if compound_score >= 0.35:\n",
    "        return 'positive'\n",
    "    \n",
    "    elif compound_score <= -0.05:\n",
    "        return 'negative'\n",
    "    \n",
    "    else:\n",
    "        return 'neutral'\n"
   ]
  },
  {
   "cell_type": "code",
   "execution_count": 178,
   "metadata": {},
   "outputs": [
    {
     "data": {
      "text/plain": [
       "positive    604\n",
       "neutral     538\n",
       "negative    177\n",
       "Name: sentiments, dtype: int64"
      ]
     },
     "execution_count": 178,
     "metadata": {},
     "output_type": "execute_result"
    }
   ],
   "source": [
    "data['sentiments'] = data['sentiment_score'].apply(sentiment_analyzer)\n",
    "data['sentiments'].value_counts()"
   ]
  },
  {
   "cell_type": "code",
   "execution_count": 195,
   "metadata": {},
   "outputs": [],
   "source": [
    "positive = data[data['sentiments'] == 'positive']\n",
    "negative = data[data['sentiments'] == 'negative']\n",
    "neutral = data[data['sentiments'] == 'neutral']"
   ]
  },
  {
   "cell_type": "code",
   "execution_count": 179,
   "metadata": {},
   "outputs": [
    {
     "data": {
      "image/png": "[encoded data removed]",
      "text/plain": [
       "<Figure size 800x600 with 1 Axes>"
      ]
     },
     "metadata": {},
     "output_type": "display_data"
    }
   ],
   "source": [
    "label_data = data['sentiments'].value_counts()\n",
    "explode = (0.1, 0.1, 0.1)\n",
    "plt.figure(figsize=(8, 6))\n",
    "patches, texts, pcts = plt.pie(label_data,labels = label_data.index,pctdistance = 0.65,shadow = True,startangle = 90,explode = explode,\n",
    "                               autopct = '%1.1f%%',textprops={ 'fontsize': 10,'color': 'black','weight': 'bold','family': 'serif' })\n",
    "plt.setp(pcts, color='white')\n",
    "hfont = {'fontname':'serif', 'weight': 'bold'}\n",
    "plt.title('Label', size=10, **hfont)\n",
    "centre_circle = plt.Circle((0,0),0.40,fc='white')\n",
    "fig = plt.gcf()\n",
    "fig.gca().add_artist(centre_circle)\n",
    "plt.title('Distribution of Sentiment')\n",
    "plt.show()"
   ]
  },
  {
   "cell_type": "code",
   "execution_count": 180,
   "metadata": {},
   "outputs": [
    {
     "data": {
      "text/html": [
       "<div>\n",
       "<style scoped>\n",
       "    .dataframe tbody tr th:only-of-type {\n",
       "        vertical-align: middle;\n",
       "    }\n",
       "\n",
       "    .dataframe tbody tr th {\n",
       "        vertical-align: top;\n",
       "    }\n",
       "\n",
       "    .dataframe thead th {\n",
       "        text-align: right;\n",
       "    }\n",
       "</style>\n",
       "<table border=\"1\" class=\"dataframe\">\n",
       "  <thead>\n",
       "    <tr style=\"text-align: right;\">\n",
       "      <th></th>\n",
       "      <th>tweet_id</th>\n",
       "      <th>user_id</th>\n",
       "      <th>created_at</th>\n",
       "      <th>text</th>\n",
       "      <th>url</th>\n",
       "      <th>mentions</th>\n",
       "      <th>lang</th>\n",
       "      <th>favourites</th>\n",
       "      <th>retweets</th>\n",
       "      <th>replies</th>\n",
       "      <th>quotes</th>\n",
       "      <th>view_count</th>\n",
       "      <th>hashtags</th>\n",
       "      <th>wordcount</th>\n",
       "      <th>processed_text</th>\n",
       "      <th>sentiment_score</th>\n",
       "      <th>sentiments</th>\n",
       "    </tr>\n",
       "  </thead>\n",
       "  <tbody>\n",
       "    <tr>\n",
       "      <th>0</th>\n",
       "      <td>1819681803604508810</td>\n",
       "      <td>886083200</td>\n",
       "      <td>2024-08-03 10:28:44.000 Z</td>\n",
       "      <td>Piggyvest is a life saver. I'm introducing thi...</td>\n",
       "      <td>NaN</td>\n",
       "      <td>NaN</td>\n",
       "      <td>en</td>\n",
       "      <td>7</td>\n",
       "      <td>2</td>\n",
       "      <td>5</td>\n",
       "      <td>0</td>\n",
       "      <td>1715.0</td>\n",
       "      <td>NaN</td>\n",
       "      <td>11</td>\n",
       "      <td>piggyvest life saver introduce friend</td>\n",
       "      <td>0.4939</td>\n",
       "      <td>positive</td>\n",
       "    </tr>\n",
       "    <tr>\n",
       "      <th>1</th>\n",
       "      <td>1819477474595545568</td>\n",
       "      <td>1761141472781279232</td>\n",
       "      <td>2024-08-02 20:56:48.000 Z</td>\n",
       "      <td>PiggyVest go think say I don die</td>\n",
       "      <td>https://t.co/rME1dNHNjK</td>\n",
       "      <td>NaN</td>\n",
       "      <td>en</td>\n",
       "      <td>3</td>\n",
       "      <td>0</td>\n",
       "      <td>1</td>\n",
       "      <td>0</td>\n",
       "      <td>47.0</td>\n",
       "      <td>NaN</td>\n",
       "      <td>8</td>\n",
       "      <td>piggyvest go think say die</td>\n",
       "      <td>-0.5994</td>\n",
       "      <td>negative</td>\n",
       "    </tr>\n",
       "    <tr>\n",
       "      <th>2</th>\n",
       "      <td>1819379501471535188</td>\n",
       "      <td>1249897379207286784</td>\n",
       "      <td>2024-08-02 14:27:30.000 Z</td>\n",
       "      <td>Use piggyvest bros</td>\n",
       "      <td>NaN</td>\n",
       "      <td>NaN</td>\n",
       "      <td>lt</td>\n",
       "      <td>1</td>\n",
       "      <td>0</td>\n",
       "      <td>1</td>\n",
       "      <td>1</td>\n",
       "      <td>14263.0</td>\n",
       "      <td>NaN</td>\n",
       "      <td>3</td>\n",
       "      <td>use piggyvest bro</td>\n",
       "      <td>0.0000</td>\n",
       "      <td>neutral</td>\n",
       "    </tr>\n",
       "    <tr>\n",
       "      <th>3</th>\n",
       "      <td>1819764467078508980</td>\n",
       "      <td>1759572460301672448</td>\n",
       "      <td>2024-08-03 15:57:13.000 Z</td>\n",
       "      <td>Piggyvest needs to stop me from withdrawing</td>\n",
       "      <td>NaN</td>\n",
       "      <td>NaN</td>\n",
       "      <td>en</td>\n",
       "      <td>1</td>\n",
       "      <td>0</td>\n",
       "      <td>1</td>\n",
       "      <td>0</td>\n",
       "      <td>66.0</td>\n",
       "      <td>NaN</td>\n",
       "      <td>7</td>\n",
       "      <td>piggyvest need stop withdraw</td>\n",
       "      <td>-0.2960</td>\n",
       "      <td>negative</td>\n",
       "    </tr>\n",
       "    <tr>\n",
       "      <th>4</th>\n",
       "      <td>1819440896863281310</td>\n",
       "      <td>1081875638573809664</td>\n",
       "      <td>2024-08-02 18:31:28.000 Z</td>\n",
       "      <td>My female friend sent me a screenshot of her s...</td>\n",
       "      <td>NaN</td>\n",
       "      <td>NaN</td>\n",
       "      <td>en</td>\n",
       "      <td>56</td>\n",
       "      <td>22</td>\n",
       "      <td>10</td>\n",
       "      <td>0</td>\n",
       "      <td>2969.0</td>\n",
       "      <td>NaN</td>\n",
       "      <td>52</td>\n",
       "      <td>female friend send screenshot saving jollof   ...</td>\n",
       "      <td>0.6705</td>\n",
       "      <td>positive</td>\n",
       "    </tr>\n",
       "  </tbody>\n",
       "</table>\n",
       "</div>"
      ],
      "text/plain": [
       "              tweet_id              user_id                 created_at  \\\n",
       "0  1819681803604508810            886083200  2024-08-03 10:28:44.000 Z   \n",
       "1  1819477474595545568  1761141472781279232  2024-08-02 20:56:48.000 Z   \n",
       "2  1819379501471535188  1249897379207286784  2024-08-02 14:27:30.000 Z   \n",
       "3  1819764467078508980  1759572460301672448  2024-08-03 15:57:13.000 Z   \n",
       "4  1819440896863281310  1081875638573809664  2024-08-02 18:31:28.000 Z   \n",
       "\n",
       "                                                text                      url  \\\n",
       "0  Piggyvest is a life saver. I'm introducing thi...                      NaN   \n",
       "1                  PiggyVest go think say I don die   https://t.co/rME1dNHNjK   \n",
       "2                                 Use piggyvest bros                      NaN   \n",
       "3        Piggyvest needs to stop me from withdrawing                      NaN   \n",
       "4  My female friend sent me a screenshot of her s...                      NaN   \n",
       "\n",
       "  mentions lang  favourites  retweets  replies  quotes  view_count hashtags  \\\n",
       "0      NaN   en           7         2        5       0      1715.0      NaN   \n",
       "1      NaN   en           3         0        1       0        47.0      NaN   \n",
       "2      NaN   lt           1         0        1       1     14263.0      NaN   \n",
       "3      NaN   en           1         0        1       0        66.0      NaN   \n",
       "4      NaN   en          56        22       10       0      2969.0      NaN   \n",
       "\n",
       "   wordcount                                     processed_text  \\\n",
       "0         11              piggyvest life saver introduce friend   \n",
       "1          8                         piggyvest go think say die   \n",
       "2          3                                  use piggyvest bro   \n",
       "3          7                       piggyvest need stop withdraw   \n",
       "4         52  female friend send screenshot saving jollof   ...   \n",
       "\n",
       "   sentiment_score sentiments  \n",
       "0           0.4939   positive  \n",
       "1          -0.5994   negative  \n",
       "2           0.0000    neutral  \n",
       "3          -0.2960   negative  \n",
       "4           0.6705   positive  "
      ]
     },
     "execution_count": 180,
     "metadata": {},
     "output_type": "execute_result"
    }
   ],
   "source": [
    "data.head()"
   ]
  },
  {
   "cell_type": "markdown",
   "metadata": {},
   "source": [
    "### **EXPLORATORY DATA ANALYSIS**"
   ]
  },
  {
   "cell_type": "markdown",
   "metadata": {},
   "source": [
    "#### Analyzing the frequency of specific keywords"
   ]
  },
  {
   "cell_type": "code",
   "execution_count": 213,
   "metadata": {},
   "outputs": [],
   "source": [
    "from nltk.tokenize import word_tokenize\n",
    "from nltk.probability import FreqDist"
   ]
  },
  {
   "cell_type": "code",
   "execution_count": 209,
   "metadata": {},
   "outputs": [],
   "source": [
    "def most_common_chart(dataframe, title):\n",
    "\tcorpus = ' '.join([i for i in dataframe.processed_text.values])\n",
    "\ttokenized_word = word_tokenize(corpus)\n",
    "\tcount = FreqDist(tokenized_word)\n",
    "\tmost_common = count.most_common(10)\n",
    "\n",
    "\tplt.figure(figsize=(10, 6))\n",
    "\tax = sns.barplot(x=[word[1] for word in most_common], y=[word[0] for word in most_common])\n",
    "\tax.bar_label(ax.containers[0], fmt='%.0f', label_type='edge')\n",
    "\tplt.xlabel('Frequency')\n",
    "\tplt.ylabel('Word')\n",
    "\tplt.title(title)\n",
    "\tprint(most_common)\n",
    "\tplt.show()"
   ]
  },
  {
   "cell_type": "code",
   "execution_count": 210,
   "metadata": {},
   "outputs": [
    {
     "name": "stdout",
     "output_type": "stream",
     "text": [
      "[('piggyvest', 1265), ('money', 213), ('save', 204), ('use', 156), ('saving', 134), ('get', 131), ('go', 122), ('like', 105), ('dey', 90), ('see', 88)]\n"
     ]
    },
    {
     "data": {
      "image/png": "[encoded data removed]",
      "text/plain": [
       "<Figure size 1000x600 with 1 Axes>"
      ]
     },
     "metadata": {},
     "output_type": "display_data"
    }
   ],
   "source": [
    "most_common_chart(data, 'Top 10 Most Frequently used Words')"
   ]
  },
  {
   "cell_type": "code",
   "execution_count": 211,
   "metadata": {},
   "outputs": [
    {
     "name": "stdout",
     "output_type": "stream",
     "text": [
      "[('piggyvest', 590), ('save', 195), ('money', 108), ('use', 104), ('like', 95), ('saving', 94), ('get', 86), ('start', 73), ('interest', 62), ('amp', 62)]\n"
     ]
    },
    {
     "data": {
      "image/png": "[encoded data removed]",
      "text/plain": [
       "<Figure size 1000x600 with 1 Axes>"
      ]
     },
     "metadata": {},
     "output_type": "display_data"
    }
   ],
   "source": [
    "most_common_chart(positive, 'Top 10 Most used Words in the Positive Tweets')"
   ]
  },
  {
   "cell_type": "code",
   "execution_count": 212,
   "metadata": {},
   "outputs": [
    {
     "name": "stdout",
     "output_type": "stream",
     "text": [
      "[('piggyvest', 169), ('money', 32), ('go', 31), ('mr', 20), ('ibu', 19), ('broke', 17), ('sportybet', 17), ('asisat', 14), ('oshoala', 14), ('use', 13)]\n"
     ]
    },
    {
     "data": {
      "image/png": "[encoded data removed]",
      "text/plain": [
       "<Figure size 1000x600 with 1 Axes>"
      ]
     },
     "metadata": {},
     "output_type": "display_data"
    }
   ],
   "source": [
    "most_common_chart(negative, 'Top 10 Most used Words in the Negative Tweets')"
   ]
  },
  {
   "cell_type": "markdown",
   "metadata": {},
   "source": [
    "#### Topic Modeling\n",
    "Implementing the topic modeling technique, **Latent Dirichlet Allocation (LDA)** to identify underlying topics or themes in the feedback data. This can provide deeper insights into the content and help analyze sentiment within specific topics."
   ]
  },
  {
   "cell_type": "code",
   "execution_count": 193,
   "metadata": {},
   "outputs": [
    {
     "name": "stdout",
     "output_type": "stream",
     "text": [
      "Topic 0:\n",
      "piggyvest dey na account save money piggyvest dey wey person piggyvest account\n",
      "\n",
      "Topic 1:\n",
      "piggyvest cowrywise money open bank piggyvest cowrywise open piggyvest cowrywise piggyvest year saving\n",
      "\n",
      "Topic 2:\n",
      "piggyvest day today user break buy ask saving 000 add\n",
      "\n",
      "Topic 3:\n",
      "piggyvest save money like app year know use account withdraw\n",
      "\n",
      "Topic 4:\n",
      "piggyvest use use piggyvest link save start 000 amp saving invest\n",
      "\n",
      "Topic 5:\n",
      "piggyvest opay zenith tinubu lagos kuda believe naira abuja send\n",
      "\n",
      "Topic 6:\n",
      "piggyvest today make davido love good way toyin abraham abraham toyin\n",
      "\n",
      "Topic 7:\n",
      "mr mr ibu ibu piggyvest happie sportybet boys larry happie boys broke\n",
      "\n",
      "Topic 8:\n",
      "piggyvest saving dollar cofounder people say think rate naira thank\n",
      "\n",
      "Topic 9:\n",
      "piggyvest money use piggyv save send join lock month end\n",
      "\n"
     ]
    }
   ],
   "source": [
    "# Create a CountVectorizer\n",
    "vectorizer = CountVectorizer(max_features=1000, lowercase=True, stop_words='english', ngram_range=(1, 2))\n",
    "\n",
    "# Apply CountVectorizer to the processed feedback text\n",
    "dtm = vectorizer.fit_transform(data['processed_text'])\n",
    "\n",
    "# Perform LDA topic modeling\n",
    "num_topics = 10  # Specify the desired number of topics\n",
    "lda = LatentDirichletAllocation(n_components=num_topics, random_state=42)\n",
    "lda.fit(dtm)\n",
    "\n",
    "# Get the top words for each topic\n",
    "feature_names = vectorizer.get_feature_names_out()\n",
    "top_words = 10  # Specify the number of top words to retrieve for each topic\n",
    "for topic_idx, topic in enumerate(lda.components_):\n",
    "    print(f\"Topic {topic_idx}:\")\n",
    "    print(\" \".join([feature_names[i] for i in topic.argsort()[:-top_words - 1:-1]]))\n",
    "    print()"
   ]
  },
  {
   "cell_type": "code",
   "execution_count": 218,
   "metadata": {},
   "outputs": [
    {
     "data": {
      "text/html": [
       "<div>\n",
       "<style scoped>\n",
       "    .dataframe tbody tr th:only-of-type {\n",
       "        vertical-align: middle;\n",
       "    }\n",
       "\n",
       "    .dataframe tbody tr th {\n",
       "        vertical-align: top;\n",
       "    }\n",
       "\n",
       "    .dataframe thead th {\n",
       "        text-align: right;\n",
       "    }\n",
       "</style>\n",
       "<table border=\"1\" class=\"dataframe\">\n",
       "  <thead>\n",
       "    <tr style=\"text-align: right;\">\n",
       "      <th></th>\n",
       "      <th>tweet_id</th>\n",
       "      <th>user_id</th>\n",
       "      <th>created_at</th>\n",
       "      <th>text</th>\n",
       "      <th>url</th>\n",
       "      <th>mentions</th>\n",
       "      <th>lang</th>\n",
       "      <th>favourites</th>\n",
       "      <th>retweets</th>\n",
       "      <th>replies</th>\n",
       "      <th>quotes</th>\n",
       "      <th>view_count</th>\n",
       "      <th>hashtags</th>\n",
       "      <th>wordcount</th>\n",
       "      <th>processed_text</th>\n",
       "      <th>sentiment_score</th>\n",
       "      <th>sentiments</th>\n",
       "    </tr>\n",
       "  </thead>\n",
       "  <tbody>\n",
       "    <tr>\n",
       "      <th>0</th>\n",
       "      <td>1819681803604508810</td>\n",
       "      <td>886083200</td>\n",
       "      <td>2024-08-03 10:28:44.000 Z</td>\n",
       "      <td>Piggyvest is a life saver. I'm introducing thi...</td>\n",
       "      <td>NaN</td>\n",
       "      <td>NaN</td>\n",
       "      <td>en</td>\n",
       "      <td>7</td>\n",
       "      <td>2</td>\n",
       "      <td>5</td>\n",
       "      <td>0</td>\n",
       "      <td>1715.0</td>\n",
       "      <td>NaN</td>\n",
       "      <td>11</td>\n",
       "      <td>piggyvest life saver introduce friend</td>\n",
       "      <td>0.4939</td>\n",
       "      <td>positive</td>\n",
       "    </tr>\n",
       "    <tr>\n",
       "      <th>1</th>\n",
       "      <td>1819477474595545568</td>\n",
       "      <td>1761141472781279232</td>\n",
       "      <td>2024-08-02 20:56:48.000 Z</td>\n",
       "      <td>PiggyVest go think say I don die</td>\n",
       "      <td>https://t.co/rME1dNHNjK</td>\n",
       "      <td>NaN</td>\n",
       "      <td>en</td>\n",
       "      <td>3</td>\n",
       "      <td>0</td>\n",
       "      <td>1</td>\n",
       "      <td>0</td>\n",
       "      <td>47.0</td>\n",
       "      <td>NaN</td>\n",
       "      <td>8</td>\n",
       "      <td>piggyvest go think say die</td>\n",
       "      <td>-0.5994</td>\n",
       "      <td>negative</td>\n",
       "    </tr>\n",
       "    <tr>\n",
       "      <th>2</th>\n",
       "      <td>1819379501471535188</td>\n",
       "      <td>1249897379207286784</td>\n",
       "      <td>2024-08-02 14:27:30.000 Z</td>\n",
       "      <td>Use piggyvest bros</td>\n",
       "      <td>NaN</td>\n",
       "      <td>NaN</td>\n",
       "      <td>lt</td>\n",
       "      <td>1</td>\n",
       "      <td>0</td>\n",
       "      <td>1</td>\n",
       "      <td>1</td>\n",
       "      <td>14263.0</td>\n",
       "      <td>NaN</td>\n",
       "      <td>3</td>\n",
       "      <td>use piggyvest bro</td>\n",
       "      <td>0.0000</td>\n",
       "      <td>neutral</td>\n",
       "    </tr>\n",
       "    <tr>\n",
       "      <th>3</th>\n",
       "      <td>1819764467078508980</td>\n",
       "      <td>1759572460301672448</td>\n",
       "      <td>2024-08-03 15:57:13.000 Z</td>\n",
       "      <td>Piggyvest needs to stop me from withdrawing</td>\n",
       "      <td>NaN</td>\n",
       "      <td>NaN</td>\n",
       "      <td>en</td>\n",
       "      <td>1</td>\n",
       "      <td>0</td>\n",
       "      <td>1</td>\n",
       "      <td>0</td>\n",
       "      <td>66.0</td>\n",
       "      <td>NaN</td>\n",
       "      <td>7</td>\n",
       "      <td>piggyvest need stop withdraw</td>\n",
       "      <td>-0.2960</td>\n",
       "      <td>negative</td>\n",
       "    </tr>\n",
       "    <tr>\n",
       "      <th>4</th>\n",
       "      <td>1819440896863281310</td>\n",
       "      <td>1081875638573809664</td>\n",
       "      <td>2024-08-02 18:31:28.000 Z</td>\n",
       "      <td>My female friend sent me a screenshot of her s...</td>\n",
       "      <td>NaN</td>\n",
       "      <td>NaN</td>\n",
       "      <td>en</td>\n",
       "      <td>56</td>\n",
       "      <td>22</td>\n",
       "      <td>10</td>\n",
       "      <td>0</td>\n",
       "      <td>2969.0</td>\n",
       "      <td>NaN</td>\n",
       "      <td>52</td>\n",
       "      <td>female friend send screenshot saving jollof   ...</td>\n",
       "      <td>0.6705</td>\n",
       "      <td>positive</td>\n",
       "    </tr>\n",
       "  </tbody>\n",
       "</table>\n",
       "</div>"
      ],
      "text/plain": [
       "              tweet_id              user_id                 created_at  \\\n",
       "0  1819681803604508810            886083200  2024-08-03 10:28:44.000 Z   \n",
       "1  1819477474595545568  1761141472781279232  2024-08-02 20:56:48.000 Z   \n",
       "2  1819379501471535188  1249897379207286784  2024-08-02 14:27:30.000 Z   \n",
       "3  1819764467078508980  1759572460301672448  2024-08-03 15:57:13.000 Z   \n",
       "4  1819440896863281310  1081875638573809664  2024-08-02 18:31:28.000 Z   \n",
       "\n",
       "                                                text                      url  \\\n",
       "0  Piggyvest is a life saver. I'm introducing thi...                      NaN   \n",
       "1                  PiggyVest go think say I don die   https://t.co/rME1dNHNjK   \n",
       "2                                 Use piggyvest bros                      NaN   \n",
       "3        Piggyvest needs to stop me from withdrawing                      NaN   \n",
       "4  My female friend sent me a screenshot of her s...                      NaN   \n",
       "\n",
       "  mentions lang  favourites  retweets  replies  quotes  view_count hashtags  \\\n",
       "0      NaN   en           7         2        5       0      1715.0      NaN   \n",
       "1      NaN   en           3         0        1       0        47.0      NaN   \n",
       "2      NaN   lt           1         0        1       1     14263.0      NaN   \n",
       "3      NaN   en           1         0        1       0        66.0      NaN   \n",
       "4      NaN   en          56        22       10       0      2969.0      NaN   \n",
       "\n",
       "   wordcount                                     processed_text  \\\n",
       "0         11              piggyvest life saver introduce friend   \n",
       "1          8                         piggyvest go think say die   \n",
       "2          3                                  use piggyvest bro   \n",
       "3          7                       piggyvest need stop withdraw   \n",
       "4         52  female friend send screenshot saving jollof   ...   \n",
       "\n",
       "   sentiment_score sentiments  \n",
       "0           0.4939   positive  \n",
       "1          -0.5994   negative  \n",
       "2           0.0000    neutral  \n",
       "3          -0.2960   negative  \n",
       "4           0.6705   positive  "
      ]
     },
     "execution_count": 218,
     "metadata": {},
     "output_type": "execute_result"
    }
   ],
   "source": [
    "data.head()"
   ]
  },
  {
   "cell_type": "code",
   "execution_count": 224,
   "metadata": {},
   "outputs": [
    {
     "data": {
      "text/plain": [
       "<AxesSubplot:xlabel='sentiments', ylabel='wordcount'>"
      ]
     },
     "execution_count": 224,
     "metadata": {},
     "output_type": "execute_result"
    },
    {
     "data": {
      "image/png": "[encoded data removed]",
      "text/plain": [
       "<Figure size 640x480 with 1 Axes>"
      ]
     },
     "metadata": {},
     "output_type": "display_data"
    }
   ],
   "source": [
    "sns.boxplot(data=data, y='wordcount', x='sentiments')"
   ]
  },
  {
   "cell_type": "code",
   "execution_count": 226,
   "metadata": {},
   "outputs": [
    {
     "data": {
      "image/png": "[encoded data removed]",
      "text/plain": [
       "<Figure size 1000x600 with 1 Axes>"
      ]
     },
     "metadata": {},
     "output_type": "display_data"
    }
   ],
   "source": [
    "# Distribution of length of preocessed feedback\n",
    "plt.figure(figsize=(10, 6))\n",
    "sns.histplot(data['wordcount'], kde = True, palette = 'hls')\n",
    "plt.title('Distribution of length of preocessed feedback')\n",
    "plt.xlabel('Length')\n",
    "plt.ylabel('Count')\n",
    "plt.show()"
   ]
  },
  {
   "cell_type": "code",
   "execution_count": 215,
   "metadata": {},
   "outputs": [
    {
     "data": {
      "text/plain": [
       "Index(['tweet_id', 'user_id', 'created_at', 'text', 'url', 'mentions', 'lang',\n",
       "       'favourites', 'retweets', 'replies', 'quotes', 'view_count', 'hashtags',\n",
       "       'wordcount', 'processed_text', 'sentiment_score', 'sentiments'],\n",
       "      dtype='object')"
      ]
     },
     "execution_count": 215,
     "metadata": {},
     "output_type": "execute_result"
    }
   ],
   "source": [
    "data.columns"
   ]
  },
  {
   "cell_type": "code",
   "execution_count": null,
   "metadata": {},
   "outputs": [],
   "source": []
  }
 ],
 "metadata": {
  "kernelspec": {
   "display_name": "Python 3",
   "language": "python",
   "name": "python3"
  },
  "language_info": {
   "codemirror_mode": {
    "name": "ipython",
    "version": 3
   },
   "file_extension": ".py",
   "mimetype": "text/x-python",
   "name": "python",
   "nbconvert_exporter": "python",
   "pygments_lexer": "ipython3",
   "version": "3.10.4"
  }
 },
 "nbformat": 4,
 "nbformat_minor": 2
}
